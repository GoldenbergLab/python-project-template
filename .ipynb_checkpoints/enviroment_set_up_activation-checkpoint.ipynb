{
 "cells": [
  {
   "cell_type": "markdown",
   "metadata": {},
   "source": [
    "# This file is designed to: \n",
    "\n",
    "## 1. Set up an enviroment (if you are the first person using it). \n",
    "## 2. Activate the enviroment (if you are using the repo). \n",
    "\n",
    "#### change out the enviroment name below "
   ]
  },
  {
   "cell_type": "code",
   "execution_count": 2,
   "metadata": {},
   "outputs": [],
   "source": [
    "# Specify the name of the conda environment (if you are creating this from scratch) \n",
    "environment_name = 'testenv'\n"
   ]
  },
  {
   "cell_type": "code",
   "execution_count": null,
   "metadata": {},
   "outputs": [],
   "source": [
    "# alternatively, run this code if you have an existing environment that you are trying to reproduce\n",
    "# environment_name = \"\""
   ]
  },
  {
   "cell_type": "markdown",
   "metadata": {},
   "source": [
    "## Setting up the enviroment "
   ]
  },
  {
   "cell_type": "markdown",
   "metadata": {},
   "source": [
    "### Creating an environment from scratch\n",
    "\n",
    "**SKIP TO THE NEXT SECTION IF YOU ARE REPRODUCING AN ENVIRONMENT**\n",
    "\n",
    "If you are the first person using this repository, you need to create an environment file from scratch. The code below performs that task and saves the environment configuration to an `environment.yml` file. This file will allow future users of the repository to access your exact environment settings, thereby allowing them to easily reporduce your code."
   ]
  },
  {
   "cell_type": "code",
   "execution_count": 3,
   "metadata": {},
   "outputs": [
    {
     "name": "stdout",
     "output_type": "stream",
     "text": [
      "env file: C:\\Users\\zhuang\\Documents\\GitHub\\python-project-template\\environment.yml\n",
      "Environment file saved at: C:\\Users\\zhuang\\Documents\\GitHub\\python-project-template\\environment.yml\n"
     ]
    }
   ],
   "source": [
    "import os\n",
    "import subprocess\n",
    "import sys\n",
    "\n",
    "### this function creates a conda environment from scratch\n",
    "def create_conda_environment():\n",
    "    subprocess.run([\"conda\", \"create\", \"--name\", environment_name, \"python=3.8\"])\n",
    "\n",
    "# Create and activate the Conda environment\n",
    "create_conda_environment()"
   ]
  },
  {
   "cell_type": "code",
   "execution_count": 11,
   "metadata": {},
   "outputs": [
    {
     "name": "stdout",
     "output_type": "stream",
     "text": [
      "# conda environments:\n",
      "#\n",
      "                         C:\\Users\\zhuang\\.juliapro\\JuliaPro_v1.0.5-2\\Conda_env\n",
      "                         C:\\Users\\zhuang\\.juliapro\\JuliaPro_v1.0.5-2\\Conda_env\\envs\\_ORCA_jl_\n",
      "base                  *  C:\\Users\\zhuang\\AppData\\Local\\Continuum\\anaconda3\n",
      "deepface                 C:\\Users\\zhuang\\AppData\\Local\\Continuum\\anaconda3\\envs\\deepface\n",
      "fast-ai-2023             C:\\Users\\zhuang\\AppData\\Local\\Continuum\\anaconda3\\envs\\fast-ai-2023\n",
      "flair                    C:\\Users\\zhuang\\AppData\\Local\\Continuum\\anaconda3\\envs\\flair\n",
      "goldenberg               C:\\Users\\zhuang\\AppData\\Local\\Continuum\\anaconda3\\envs\\goldenberg\n",
      "moviepy                  C:\\Users\\zhuang\\AppData\\Local\\Continuum\\anaconda3\\envs\\moviepy\n",
      "ocrmypdf                 C:\\Users\\zhuang\\AppData\\Local\\Continuum\\anaconda3\\envs\\ocrmypdf\n",
      "py2                      C:\\Users\\zhuang\\AppData\\Local\\Continuum\\anaconda3\\envs\\py2\n",
      "python38                 C:\\Users\\zhuang\\AppData\\Local\\Continuum\\anaconda3\\envs\\python38\n",
      "r-tutorial               C:\\Users\\zhuang\\AppData\\Local\\Continuum\\anaconda3\\envs\\r-tutorial\n",
      "spacy_condaenv           C:\\Users\\zhuang\\AppData\\Local\\Continuum\\anaconda3\\envs\\spacy_condaenv\n",
      "test-lab-environment     C:\\Users\\zhuang\\AppData\\Local\\Continuum\\anaconda3\\envs\\test-lab-environment\n",
      "testenv                  C:\\Users\\zhuang\\AppData\\Local\\Continuum\\anaconda3\\envs\\testenv\n",
      "\n"
     ]
    }
   ],
   "source": [
    "## list the current virtual environments on the machine (your new one should be there)\n",
    "! conda env list"
   ]
  },
  {
   "cell_type": "markdown",
   "metadata": {},
   "source": [
    "#### Activate new environment\n",
    "\n",
    "1. Open a new anaconda prompt\n",
    "2. Run the following code: `activate [environment-name]`. You will succeed when the environment name appears to the left of the anaconda prompt, so instead of `(base)` it becomes `(environment-name)`\n",
    "3. Close out of this jupyter notebook.\n",
    "4. In the new anaconda prompt in which the environment is activated, reopen Jupyter notebook\n",
    "5. Continue to the next cell to install packages"
   ]
  },
  {
   "cell_type": "markdown",
   "metadata": {},
   "source": [
    "### Install modules\n",
    "\n",
    "Below you can add the modules that you want your new environment to have"
   ]
  },
  {
   "cell_type": "code",
   "execution_count": 10,
   "metadata": {},
   "outputs": [
    {
     "name": "stdout",
     "output_type": "stream",
     "text": [
      "Package is already installed.\n"
     ]
    }
   ],
   "source": [
    "import os\n",
    "import subprocess\n",
    "import sys\n",
    "\n",
    "def install_package(package_name):\n",
    "    # Check if the package is already installed\n",
    "    result = subprocess.run(['conda', 'list', package_name], capture_output=True, text=True)\n",
    "\n",
    "    if package_name in result.stdout:\n",
    "        print(\"Package is already installed.\")\n",
    "    else:\n",
    "        # Install the package in the activated Conda environment and capture the output\n",
    "        result = subprocess.run(['conda', 'install', '-n', 'myenv', package_name], capture_output=True, text=True)\n",
    "\n",
    "        # Check if the installation was successful\n",
    "        if result.returncode == 0:\n",
    "            print(\"Success: Package installation completed.\")\n",
    "        else:\n",
    "            print(\"Error: Package installation failed.\")\n",
    "            print(result.stderr)\n",
    "\n",
    "# Install a package in the Conda environment\n",
    "install_package('numpy')\n"
   ]
  },
  {
   "cell_type": "code",
   "execution_count": null,
   "metadata": {},
   "outputs": [],
   "source": [
    "# Get the current working directory\n",
    "current_folder = os.getcwd()\n",
    "\n",
    "# Specify the path to the environment.yml file\n",
    "\n",
    "file_name ='environment.yml'\n",
    "environment_file =  os.path.join(current_folder, file_name)\n",
    "\n",
    "def export_environment(environment_name, environment_file):\n",
    "    # Export the Conda environment to environment.yml file in the local folder\n",
    "    subprocess.run(['conda', 'env', 'export', '-n', environment_name, '--file', environment_file])\n",
    "\n",
    "# Print the path to the environment.yml file\n",
    "print(\"Environment file saved at:\", environment_file)"
   ]
  },
  {
   "cell_type": "markdown",
   "metadata": {},
   "source": [
    "### Reproducing an existing environment \n",
    "\n",
    "If you are using this repository to reproduce or modify existing code, you need to reproduce the existing environment. The code below allow you to set up an enviroment from an existing environment file. Environment files are named `environment.yml`. All you need to do is decide on an enviroment name by changing the name **file_name**. "
   ]
  },
  {
   "cell_type": "code",
   "execution_count": 31,
   "metadata": {},
   "outputs": [
    {
     "name": "stdout",
     "output_type": "stream",
     "text": [
      "env file: /Users/agoldenberg/Dropbox (Harvard University)/lab/lab-github/python-project-template/environment.yml\n",
      "Environment file saved at: /Users/agoldenberg/Dropbox (Harvard University)/lab/lab-github/python-project-template/environment.yml\n"
     ]
    }
   ],
   "source": [
    "import os\n",
    "import subprocess\n",
    "import sys\n",
    "\n",
    "def create_conda_environment(environment_file):\n",
    "    # Create the Conda environment using the provided environment.yml file\n",
    "    subprocess.run(['conda', 'env', 'create', '-f', environment_file])\n",
    "    \n",
    "\n",
    "def export_environment(environment_name, environment_file):\n",
    "    # Export the Conda environment to environment.yml file in the local folder\n",
    "    subprocess.run(['conda', 'env', 'export', '-n', environment_name, '--file', environment_file])\n",
    "\n",
    "\n",
    "def activate_conda_environment(environment_name):\n",
    "    # Activate the Conda environment\n",
    "    if 'win' in sys.platform:\n",
    "        activate_cmd = f'conda activate {environment_name}'\n",
    "    else:\n",
    "        activate_cmd = f'source activate {environment_name}'\n",
    "    subprocess.run(activate_cmd, shell=True)\n",
    "\n",
    "# Get the current working directory\n",
    "current_folder = os.getcwd()\n",
    "\n",
    "# Specify the path to the environment.yml file\n",
    "\n",
    "file_name ='environment.yml'\n",
    "\n",
    "environment_file =  os.path.join(current_folder, file_name)\n",
    "\n",
    "\n",
    "\n",
    "# Print the current folder path\n",
    "print(\"env file:\", environment_file)\n",
    "\n",
    "# Create and activate the Conda environment\n",
    "create_conda_environment(environment_file)\n",
    "activate_conda_environment(environment_name)\n",
    "\n",
    "# Export the Conda environment to environment.yml file in the local folder\n",
    "export_environment(environment_name, environment_file)\n",
    "\n",
    "# Print the path to the environment.yml file\n",
    "print(\"Environment file saved at:\", environment_file)\n"
   ]
  },
  {
   "cell_type": "markdown",
   "metadata": {},
   "source": [
    "### Check if the environment is activated"
   ]
  },
  {
   "cell_type": "code",
   "execution_count": 4,
   "metadata": {},
   "outputs": [
    {
     "name": "stdout",
     "output_type": "stream",
     "text": [
      "Conda environment is activated.\n"
     ]
    }
   ],
   "source": [
    "#run this code to check if the environment is activated\n",
    "\n",
    "def is_conda_environment():\n",
    "    conda_prefix = os.environ.get('CONDA_PREFIX', '')\n",
    "    return conda_prefix != ''\n",
    "\n",
    "# Check if Conda environment is activated\n",
    "if is_conda_environment():\n",
    "    print(\"Conda environment is activated.\")\n",
    "else:\n",
    "    print(\"Conda environment is not activated.\")"
   ]
  },
  {
   "cell_type": "markdown",
   "metadata": {},
   "source": []
  },
  {
   "cell_type": "markdown",
   "metadata": {},
   "source": [
    "### activate the module.\n",
    "\n",
    "#### Make sure that you specified the enviroment name. "
   ]
  },
  {
   "cell_type": "code",
   "execution_count": 32,
   "metadata": {},
   "outputs": [],
   "source": [
    "import subprocess\n",
    "import sys\n",
    "\n",
    "def activate_conda_environment(environment_name):\n",
    "    # Activate the Conda environment\n",
    "    if 'win' in sys.platform:\n",
    "        activate_cmd = f'conda activate {environment_name}'\n",
    "    else:\n",
    "        activate_cmd = f'source activate {environment_name}'\n",
    "    subprocess.run(activate_cmd, shell=True)\n",
    "\n",
    "# Specify the name of the Conda environment\n",
    "\n",
    "# Activate the Conda environment\n",
    "activate_conda_environment(environment_name)\n"
   ]
  },
  {
   "cell_type": "code",
   "execution_count": null,
   "metadata": {},
   "outputs": [],
   "source": []
  }
 ],
 "metadata": {
  "kernelspec": {
   "display_name": "Python 3",
   "language": "python",
   "name": "python3"
  },
  "language_info": {
   "codemirror_mode": {
    "name": "ipython",
    "version": 3
   },
   "file_extension": ".py",
   "mimetype": "text/x-python",
   "name": "python",
   "nbconvert_exporter": "python",
   "pygments_lexer": "ipython3",
   "version": "3.7.4"
  },
  "nteract": {
   "version": "0.28.0"
  }
 },
 "nbformat": 4,
 "nbformat_minor": 4
}
