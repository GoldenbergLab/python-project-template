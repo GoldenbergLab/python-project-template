{
 "cells": [
  {
   "cell_type": "code",
   "execution_count": 11,
   "metadata": {},
   "outputs": [
    {
     "name": "stdout",
     "output_type": "stream",
     "text": [
      "env file: /Users/agoldenberg/Dropbox (Harvard University)/lab/lab-github/python-project-template/environment.yml\n"
     ]
    }
   ],
   "source": [
    "import os\n",
    "import subprocess\n",
    "import sys\n",
    "\n",
    "def create_conda_environment(environment_file):\n",
    "    # Create the Conda environment using the provided environment.yml file\n",
    "    subprocess.run(['conda', 'env', 'create', '-f', environment_file])\n",
    "\n",
    "def activate_conda_environment(environment_name):\n",
    "    # Activate the Conda environment\n",
    "    if 'win' in sys.platform:\n",
    "        activate_cmd = f'conda activate {environment_name}'\n",
    "    else:\n",
    "        activate_cmd = f'source activate {environment_name}'\n",
    "    subprocess.run(activate_cmd, shell=True)\n",
    "\n",
    "# Get the current working directory\n",
    "current_folder = os.getcwd()\n",
    "\n",
    "# Specify the path to the environment.yml file\n",
    "\n",
    "file_name ='environment.yml'\n",
    "\n",
    "environment_file =  os.path.join(current_folder, file_name)\n",
    "\n",
    "\n",
    "# Specify the name of the Conda environment\n",
    "environment_name = 'testenv'\n",
    "\n",
    "\n",
    "# Print the current folder path\n",
    "print(\"env file:\", environment_file)\n",
    "\n",
    "# Create and activate the Conda environment\n",
    "create_conda_environment(environment_file)\n",
    "activate_conda_environment(environment_name)\n",
    "\n"
   ]
  },
  {
   "cell_type": "code",
   "execution_count": 12,
   "metadata": {},
   "outputs": [
    {
     "name": "stdout",
     "output_type": "stream",
     "text": [
      "Conda environment is activated.\n"
     ]
    }
   ],
   "source": [
    "#run this code to check if the enviroment is activated\n",
    "\n",
    "def is_conda_environment():\n",
    "    conda_prefix = os.environ.get('CONDA_PREFIX', '')\n",
    "    return conda_prefix != ''\n",
    "\n",
    "# Check if Conda environment is activated\n",
    "if is_conda_environment():\n",
    "    print(\"Conda environment is activated.\")\n",
    "else:\n",
    "    print(\"Conda environment is not activated.\")"
   ]
  },
  {
   "cell_type": "code",
   "execution_count": null,
   "metadata": {},
   "outputs": [],
   "source": []
  }
 ],
 "metadata": {
  "kernelspec": {
   "display_name": "Python 3",
   "language": "python",
   "name": "python3"
  },
  "language_info": {
   "codemirror_mode": {
    "name": "ipython",
    "version": 3
   },
   "file_extension": ".py",
   "mimetype": "text/x-python",
   "name": "python",
   "nbconvert_exporter": "python",
   "pygments_lexer": "ipython3",
   "version": "3.8.3"
  }
 },
 "nbformat": 4,
 "nbformat_minor": 4
}
