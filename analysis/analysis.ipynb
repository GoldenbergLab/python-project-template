{
 "cells": [
  {
   "cell_type": "markdown",
   "id": "a73e51ee-2e26-4012-94a8-4732845ae2d5",
   "metadata": {},
   "source": [
    "# [Your Study] Data Analysis"
   ]
  },
  {
   "cell_type": "markdown",
   "id": "0cbbc7a8-2901-491b-a8a5-eccad49e00f8",
   "metadata": {},
   "source": [
    "In this notebook, pull processed data from the project's `data` folder, and produce visualizations, statistical tests, and other analysis as needed. Use the `conda` environment for this repo to run this notebook; depending on your Jupyter version, this can be done by choosing a kernel in the top right of the UI, or by running `jupyter notebook` from terminal while in the correct environment."
   ]
  },
  {
   "cell_type": "markdown",
   "id": "1a8bef4d-c963-4e5b-b351-b77bc6b66680",
   "metadata": {},
   "source": [
    "#### Python version used to create this notebook:"
   ]
  },
  {
   "cell_type": "code",
   "execution_count": 10,
   "id": "114a82cc-1510-473b-8162-a7ebec6809ee",
   "metadata": {},
   "outputs": [
    {
     "name": "stdout",
     "output_type": "stream",
     "text": [
      "3.11.8 | packaged by conda-forge | (main, Feb 16 2024, 20:49:36) [Clang 16.0.6 ]\n"
     ]
    }
   ],
   "source": [
    "import sys\n",
    "print(sys.version)"
   ]
  },
  {
   "cell_type": "markdown",
   "id": "974604f2-0991-4911-84b9-bab6db4d7bbe",
   "metadata": {},
   "source": [
    "## Import packages"
   ]
  },
  {
   "cell_type": "markdown",
   "id": "417c5da6-7bd6-4711-a05e-7533407335bc",
   "metadata": {},
   "source": [
    "These packages should be installed in your conda environment!\n"
   ]
  },
  {
   "cell_type": "code",
   "execution_count": 15,
   "id": "090326b9-84fe-429a-b7cb-680f6cc1f503",
   "metadata": {},
   "outputs": [],
   "source": [
    "# import pandas as pd\n",
    "# import numpy as np\n",
    "# import matplotlib.pyplot as plt\n",
    "# from scipy import stats"
   ]
  },
  {
   "cell_type": "code",
   "execution_count": null,
   "id": "eb49fa1f-9b0d-4a6e-8d6a-94e980eb73f2",
   "metadata": {},
   "outputs": [],
   "source": []
  },
  {
   "cell_type": "markdown",
   "id": "bf038939-45ba-4cf5-a4f2-182184ef7977",
   "metadata": {},
   "source": [
    "## Descriptives"
   ]
  },
  {
   "cell_type": "code",
   "execution_count": null,
   "id": "cb614db4-60c1-4a11-a10e-91b75494fad5",
   "metadata": {},
   "outputs": [],
   "source": [
    "# graphs of distribution of results?"
   ]
  },
  {
   "cell_type": "code",
   "execution_count": null,
   "id": "ca3aa2cf-74a5-4fed-8d1e-2082a2058d48",
   "metadata": {},
   "outputs": [],
   "source": []
  },
  {
   "cell_type": "markdown",
   "id": "b9636ffe-8178-4484-a46a-461ebdf5ad65",
   "metadata": {},
   "source": [
    "## Participant demographics"
   ]
  },
  {
   "cell_type": "code",
   "execution_count": 24,
   "id": "2dd5ebee-a45a-45a3-8fc5-921168a68a43",
   "metadata": {},
   "outputs": [],
   "source": [
    "# number of participants"
   ]
  },
  {
   "cell_type": "code",
   "execution_count": null,
   "id": "e33952ad-2ee0-41cd-b74f-86421cdd8681",
   "metadata": {},
   "outputs": [],
   "source": [
    "# gender"
   ]
  },
  {
   "cell_type": "code",
   "execution_count": null,
   "id": "afe4eb3f-2a69-466b-bdbe-908fae21b4e6",
   "metadata": {},
   "outputs": [],
   "source": [
    "# age"
   ]
  },
  {
   "cell_type": "code",
   "execution_count": 32,
   "id": "ea5f8daf-a734-434b-9b5a-ea8a1c4767f8",
   "metadata": {},
   "outputs": [],
   "source": [
    "# graphs"
   ]
  },
  {
   "cell_type": "code",
   "execution_count": null,
   "id": "88f98421-37d6-443a-a882-929086923e3a",
   "metadata": {},
   "outputs": [],
   "source": []
  },
  {
   "cell_type": "markdown",
   "id": "991b9939-4574-4173-a101-79cc5608c715",
   "metadata": {},
   "source": [
    "## H1 (Main Effect) Analysis (replace this with description of H1)\n",
    "\n",
    "### How does [main effect variable] influence [results]?"
   ]
  },
  {
   "cell_type": "code",
   "execution_count": null,
   "id": "6fe74750-ee50-4158-a43a-54786210ff8c",
   "metadata": {},
   "outputs": [],
   "source": []
  },
  {
   "cell_type": "markdown",
   "id": "bd37e940-bea9-468f-856c-af2bf926fe63",
   "metadata": {},
   "source": [
    "## Exploratory Analysis (replace this with description)\n",
    "\n",
    "### How does [exploratory variable] influence [results]?"
   ]
  },
  {
   "cell_type": "code",
   "execution_count": null,
   "id": "3484bc91-809f-40e3-a273-fbca9afbaec7",
   "metadata": {},
   "outputs": [],
   "source": []
  },
  {
   "cell_type": "markdown",
   "id": "463c228b-ab52-4092-8829-ae8f6a14e5af",
   "metadata": {},
   "source": [
    "## Power Analysis "
   ]
  },
  {
   "cell_type": "code",
   "execution_count": null,
   "id": "933a4570-99fc-4aa0-84b5-f7521d2b6686",
   "metadata": {},
   "outputs": [],
   "source": []
  },
  {
   "cell_type": "code",
   "execution_count": null,
   "id": "1c7950b8-f45c-428a-a744-b3c1e7cb1196",
   "metadata": {},
   "outputs": [],
   "source": []
  },
  {
   "cell_type": "code",
   "execution_count": null,
   "id": "fb9d6b23-24cb-4932-b4ac-b02c09db5528",
   "metadata": {},
   "outputs": [],
   "source": []
  },
  {
   "cell_type": "code",
   "execution_count": null,
   "id": "27742622-ba34-48ae-accf-2d66bbdf083a",
   "metadata": {},
   "outputs": [],
   "source": []
  }
 ],
 "metadata": {
  "kernelspec": {
   "display_name": "Python [conda env:base] *",
   "language": "python",
   "name": "conda-base-py"
  },
  "language_info": {
   "codemirror_mode": {
    "name": "ipython",
    "version": 3
   },
   "file_extension": ".py",
   "mimetype": "text/x-python",
   "name": "python",
   "nbconvert_exporter": "python",
   "pygments_lexer": "ipython3",
   "version": "3.11.8"
  }
 },
 "nbformat": 4,
 "nbformat_minor": 5
}
