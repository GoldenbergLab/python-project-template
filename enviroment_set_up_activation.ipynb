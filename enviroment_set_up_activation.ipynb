{
 "cells": [
  {
   "cell_type": "markdown",
   "metadata": {},
   "source": [
    "# This file is designed to: \n",
    "\n",
    "## 1. Set up an enviroment (if you are the first person using it. \n",
    "## 2. Activate the enviroment (if you are using the repo). \n",
    "\n",
    "#### check out the enviroment name below "
   ]
  },
  {
   "cell_type": "code",
   "execution_count": 22,
   "metadata": {},
   "outputs": [],
   "source": [
    "# Specify the name of the Conda environment or run this code if you are activating\n",
    "environment_name = 'testenv'\n"
   ]
  },
  {
   "cell_type": "markdown",
   "metadata": {},
   "source": [
    "## Setting up the enviroment "
   ]
  },
  {
   "cell_type": "markdown",
   "metadata": {},
   "source": [
    "The code below allow you to set up an enviroment. All you need to do is decide on an enviroment name by changing the name unde **file_name**. "
   ]
  },
  {
   "cell_type": "code",
   "execution_count": 31,
   "metadata": {},
   "outputs": [
    {
     "name": "stdout",
     "output_type": "stream",
     "text": [
      "env file: /Users/agoldenberg/Dropbox (Harvard University)/lab/lab-github/python-project-template/environment.yml\n",
      "Environment file saved at: /Users/agoldenberg/Dropbox (Harvard University)/lab/lab-github/python-project-template/environment.yml\n"
     ]
    }
   ],
   "source": [
    "import os\n",
    "import subprocess\n",
    "import sys\n",
    "\n",
    "def create_conda_environment(environment_file):\n",
    "    # Create the Conda environment using the provided environment.yml file\n",
    "    subprocess.run(['conda', 'env', 'create', '-f', environment_file])\n",
    "    \n",
    "\n",
    "def export_environment(environment_name, environment_file):\n",
    "    # Export the Conda environment to environment.yml file in the local folder\n",
    "    subprocess.run(['conda', 'env', 'export', '-n', environment_name, '--file', environment_file])\n",
    "\n",
    "\n",
    "def activate_conda_environment(environment_name):\n",
    "    # Activate the Conda environment\n",
    "    if 'win' in sys.platform:\n",
    "        activate_cmd = f'conda activate {environment_name}'\n",
    "    else:\n",
    "        activate_cmd = f'source activate {environment_name}'\n",
    "    subprocess.run(activate_cmd, shell=True)\n",
    "\n",
    "# Get the current working directory\n",
    "current_folder = os.getcwd()\n",
    "\n",
    "# Specify the path to the environment.yml file\n",
    "\n",
    "file_name ='environment.yml'\n",
    "\n",
    "environment_file =  os.path.join(current_folder, file_name)\n",
    "\n",
    "\n",
    "\n",
    "# Print the current folder path\n",
    "print(\"env file:\", environment_file)\n",
    "\n",
    "# Create and activate the Conda environment\n",
    "create_conda_environment(environment_file)\n",
    "activate_conda_environment(environment_name)\n",
    "\n",
    "# Export the Conda environment to environment.yml file in the local folder\n",
    "export_environment(environment_name, environment_file)\n",
    "\n",
    "# Print the path to the environment.yml file\n",
    "print(\"Environment file saved at:\", environment_file)\n"
   ]
  },
  {
   "cell_type": "markdown",
   "metadata": {},
   "source": [
    "### Check if the enviroment is activated"
   ]
  },
  {
   "cell_type": "code",
   "execution_count": 27,
   "metadata": {},
   "outputs": [
    {
     "name": "stdout",
     "output_type": "stream",
     "text": [
      "Conda environment is activated.\n"
     ]
    }
   ],
   "source": [
    "#run this code to check if the enviroment is activated\n",
    "\n",
    "def is_conda_environment():\n",
    "    conda_prefix = os.environ.get('CONDA_PREFIX', '')\n",
    "    return conda_prefix != ''\n",
    "\n",
    "# Check if Conda environment is activated\n",
    "if is_conda_environment():\n",
    "    print(\"Conda environment is activated.\")\n",
    "else:\n",
    "    print(\"Conda environment is not activated.\")"
   ]
  },
  {
   "cell_type": "markdown",
   "metadata": {},
   "source": [
    "### Install modules\n",
    "\n",
    "Below you would need to add the modules that you want your enviroment to have"
   ]
  },
  {
   "cell_type": "code",
   "execution_count": 28,
   "metadata": {},
   "outputs": [
    {
     "name": "stdout",
     "output_type": "stream",
     "text": [
      "Package is already installed.\n"
     ]
    }
   ],
   "source": [
    "\n",
    "def install_package(package_name):\n",
    "    # Check if the package is already installed\n",
    "    result = subprocess.run(['conda', 'list', package_name], capture_output=True, text=True)\n",
    "\n",
    "    if package_name in result.stdout:\n",
    "        print(\"Package is already installed.\")\n",
    "    else:\n",
    "        # Install the package in the activated Conda environment and capture the output\n",
    "        result = subprocess.run(['conda', 'install', '-n', 'myenv', package_name], capture_output=True, text=True)\n",
    "\n",
    "        # Check if the installation was successful\n",
    "        if result.returncode == 0:\n",
    "            print(\"Success: Package installation completed.\")\n",
    "        else:\n",
    "            print(\"Error: Package installation failed.\")\n",
    "            print(result.stderr)\n",
    "\n",
    "# Install a package in the Conda environment\n",
    "install_package('numpy')\n"
   ]
  },
  {
   "cell_type": "markdown",
   "metadata": {},
   "source": [
    "### activate the module.\n",
    "\n",
    "#### Make sure that you specified the enviroment name. "
   ]
  },
  {
   "cell_type": "code",
   "execution_count": 32,
   "metadata": {},
   "outputs": [],
   "source": [
    "import subprocess\n",
    "import sys\n",
    "\n",
    "def activate_conda_environment(environment_name):\n",
    "    # Activate the Conda environment\n",
    "    if 'win' in sys.platform:\n",
    "        activate_cmd = f'conda activate {environment_name}'\n",
    "    else:\n",
    "        activate_cmd = f'source activate {environment_name}'\n",
    "    subprocess.run(activate_cmd, shell=True)\n",
    "\n",
    "# Specify the name of the Conda environment\n",
    "\n",
    "# Activate the Conda environment\n",
    "activate_conda_environment(environment_name)\n"
   ]
  },
  {
   "cell_type": "code",
   "execution_count": null,
   "metadata": {},
   "outputs": [],
   "source": []
  }
 ],
 "metadata": {
  "kernelspec": {
   "display_name": "Python 3",
   "language": "python",
   "name": "python3"
  },
  "language_info": {
   "codemirror_mode": {
    "name": "ipython",
    "version": 3
   },
   "file_extension": ".py",
   "mimetype": "text/x-python",
   "name": "python",
   "nbconvert_exporter": "python",
   "pygments_lexer": "ipython3",
   "version": "3.8.3"
  }
 },
 "nbformat": 4,
 "nbformat_minor": 4
}
